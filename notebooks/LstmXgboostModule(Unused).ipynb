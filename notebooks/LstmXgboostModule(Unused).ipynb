{
 "cells": [
  {
   "cell_type": "code",
   "execution_count": 38,
   "id": "initial_id",
   "metadata": {
    "collapsed": true,
    "ExecuteTime": {
     "end_time": "2024-02-02T16:55:46.383634400Z",
     "start_time": "2024-02-02T16:55:46.245240900Z"
    }
   },
   "outputs": [
    {
     "data": {
      "text/plain": "(0.0, 3.0)"
     },
     "execution_count": 38,
     "metadata": {},
     "output_type": "execute_result"
    },
    {
     "data": {
      "text/plain": "<Figure size 640x480 with 1 Axes>",
      "image/png": "[encoded data removed]"
     },
     "metadata": {},
     "output_type": "display_data"
    }
   ],
   "source": [
    "import numpy as np\n",
    "import pandas as pd\n",
    "from keras.models import Model\n",
    "from keras.layers import LSTM, Input, Dense\n",
    "from keras.preprocessing.sequence import TimeseriesGenerator\n",
    "from xgboost import XGBClassifier\n",
    "from sklearn.model_selection import train_test_split\n",
    "from sklearn.metrics import accuracy_score\n",
    "\n",
    "# 假设 df 是包含 'player1_winrate', 'player2_winrate', 'timestamp', 'outcome' 的 DataFrame\n",
    "# 其中 'outcome' 是目标变量，表示比赛结果\n",
    "\n",
    "# 数据预处理\n",
    "# 这里需要添加将时间戳转换为可用特征的代码\n",
    "# 例如，提取时间戳的日、月、小时等\n",
    "\n",
    "original = pd.read_csv(\"../data/original/Wimbledon_featured_matches.csv\")\n",
    "\n",
    "data = original[[\"match_id\", \"elapsed_time\", \"point_victor\"]].copy()\n",
    "\n",
    "data = data.loc[data[\"match_id\"] == \"2023-wimbledon-1301\"]\n",
    "\n",
    "data = data.rename(columns={\"elapsed_time\": \"ds\", \"point_victor\": \"y\"})\n",
    "data[\"ds\"] = pd.to_datetime(data[\"ds\"], format=\"%H:%M:%S\")\n",
    "\n",
    "# 分割数据集\n",
    "X = data.drop('outcome', axis=1)\n",
    "y = data['outcome']\n",
    "X_train, X_test, y_train, y_test = train_test_split(X, y, test_size=0.2, random_state=42)\n",
    "\n"
   ]
  },
  {
   "cell_type": "code",
   "outputs": [],
   "source": [
    "# LSTM 模型构建\n",
    "# 假设我们只用时间戳作为 LSTM 的输入\n",
    "timestamp_input = Input(shape=(X_train.shape[1], 1))\n",
    "lstm_out = LSTM(50, activation='relu')(timestamp_input)\n",
    "lstm_model = Model(inputs=timestamp_input, outputs=lstm_out)\n",
    "\n",
    "# 训练 LSTM 模型\n",
    "# 此处需要根据你的数据调整生成器的参数\n",
    "generator = TimeseriesGenerator(X_train['timestamp'], y_train, length=10, batch_size=20)\n",
    "lstm_model.compile(optimizer='adam', loss='binary_crossentropy')\n",
    "lstm_model.fit_generator(generator, steps_per_epoch=1, epochs=10, verbose=0)\n",
    "\n",
    "# 预测时间特征\n",
    "train_timestamp_features = lstm_model.predict(X_train['timestamp'])\n",
    "test_timestamp_features = lstm_model.predict(X_test['timestamp'])\n",
    "\n",
    "# 结合 LSTM 输出和其他特征\n",
    "X_train_combined = np.concatenate((train_timestamp_features, X_train[['player1_winrate', 'player2_winrate']].values), axis=1)\n",
    "X_test_combined = np.concatenate((test_timestamp_features, X_test[['player1_winrate', 'player2_winrate']].values), axis=1)\n",
    "\n",
    "# XGBoost 模型\n",
    "xgb_model = XGBClassifier()\n",
    "xgb_model.fit(X_train_combined, y_train)\n",
    "\n",
    "# 预测和评估\n",
    "y_pred = xgb_model.predict(X_test_combined)\n",
    "accuracy = accuracy_score(y_test, y_pred)\n",
    "print(f\"Model Accuracy: {accuracy}\")"
   ],
   "metadata": {
    "collapsed": false
   },
   "id": "d0d00837501e84a5"
  }
 ],
 "metadata": {
  "kernelspec": {
   "display_name": "Python 3",
   "language": "python",
   "name": "python3"
  },
  "language_info": {
   "codemirror_mode": {
    "name": "ipython",
    "version": 2
   },
   "file_extension": ".py",
   "mimetype": "text/x-python",
   "name": "python",
   "nbconvert_exporter": "python",
   "pygments_lexer": "ipython2",
   "version": "2.7.6"
  }
 },
 "nbformat": 4,
 "nbformat_minor": 5
}
