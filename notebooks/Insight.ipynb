{
 "cells": [
  {
   "cell_type": "markdown",
   "source": [
    "考虑数据输入:\n",
    "开始时间，结束时间(elapsed_time和/或point_number)，set情况(set_no)，双方局外胜率(rate)，双方当前得分(p1_score, p2_score)，开始时game获胜情况(p1_games)，发球手(server)\n",
    "输出：\n",
    "game_victor，数量split_size个球\n",
    "// elapsed_time set_no\tgame_no\tpoint_no\tp1_sets\tp2_sets\tp1_games\tp2_games\tp1_score\tp2_score\tserver\tserve_no"
   ],
   "metadata": {
    "collapsed": false
   },
   "id": "80915902a8de16ac"
  },
  {
   "cell_type": "code",
   "outputs": [
    {
     "data": {
      "text/plain": "      point_no set_no point_victor p1_score p2_score p1_games p2_games server\n0           15      1            2       30       30        1        0      2\n1           92      2            1       30       30        1        3      2\n2          186      3            1       15        0        3        1      1\n3           24      1            2        0        0        2        1      2\n4          116      2            1       40       40        2        4      2\n...        ...    ...          ...      ...      ...      ...      ...    ...\n18526      229      4            2       40       30        1        1      1\n18527       35      1            2       15       40        0        4      2\n18528      100      2            2       15       30        4        3      2\n18529      164      3            1       15       40        2        1      1\n18530      240      4            2       30       30        2        1      2\n\n[18531 rows x 8 columns]",
      "text/html": "<div>\n<style scoped>\n    .dataframe tbody tr th:only-of-type {\n        vertical-align: middle;\n    }\n\n    .dataframe tbody tr th {\n        vertical-align: top;\n    }\n\n    .dataframe thead th {\n        text-align: right;\n    }\n</style>\n<table border=\"1\" class=\"dataframe\">\n  <thead>\n    <tr style=\"text-align: right;\">\n      <th></th>\n      <th>point_no</th>\n      <th>set_no</th>\n      <th>point_victor</th>\n      <th>p1_score</th>\n      <th>p2_score</th>\n      <th>p1_games</th>\n      <th>p2_games</th>\n      <th>server</th>\n    </tr>\n  </thead>\n  <tbody>\n    <tr>\n      <th>0</th>\n      <td>15</td>\n      <td>1</td>\n      <td>2</td>\n      <td>30</td>\n      <td>30</td>\n      <td>1</td>\n      <td>0</td>\n      <td>2</td>\n    </tr>\n    <tr>\n      <th>1</th>\n      <td>92</td>\n      <td>2</td>\n      <td>1</td>\n      <td>30</td>\n      <td>30</td>\n      <td>1</td>\n      <td>3</td>\n      <td>2</td>\n    </tr>\n    <tr>\n      <th>2</th>\n      <td>186</td>\n      <td>3</td>\n      <td>1</td>\n      <td>15</td>\n      <td>0</td>\n      <td>3</td>\n      <td>1</td>\n      <td>1</td>\n    </tr>\n    <tr>\n      <th>3</th>\n      <td>24</td>\n      <td>1</td>\n      <td>2</td>\n      <td>0</td>\n      <td>0</td>\n      <td>2</td>\n      <td>1</td>\n      <td>2</td>\n    </tr>\n    <tr>\n      <th>4</th>\n      <td>116</td>\n      <td>2</td>\n      <td>1</td>\n      <td>40</td>\n      <td>40</td>\n      <td>2</td>\n      <td>4</td>\n      <td>2</td>\n    </tr>\n    <tr>\n      <th>...</th>\n      <td>...</td>\n      <td>...</td>\n      <td>...</td>\n      <td>...</td>\n      <td>...</td>\n      <td>...</td>\n      <td>...</td>\n      <td>...</td>\n    </tr>\n    <tr>\n      <th>18526</th>\n      <td>229</td>\n      <td>4</td>\n      <td>2</td>\n      <td>40</td>\n      <td>30</td>\n      <td>1</td>\n      <td>1</td>\n      <td>1</td>\n    </tr>\n    <tr>\n      <th>18527</th>\n      <td>35</td>\n      <td>1</td>\n      <td>2</td>\n      <td>15</td>\n      <td>40</td>\n      <td>0</td>\n      <td>4</td>\n      <td>2</td>\n    </tr>\n    <tr>\n      <th>18528</th>\n      <td>100</td>\n      <td>2</td>\n      <td>2</td>\n      <td>15</td>\n      <td>30</td>\n      <td>4</td>\n      <td>3</td>\n      <td>2</td>\n    </tr>\n    <tr>\n      <th>18529</th>\n      <td>164</td>\n      <td>3</td>\n      <td>1</td>\n      <td>15</td>\n      <td>40</td>\n      <td>2</td>\n      <td>1</td>\n      <td>1</td>\n    </tr>\n    <tr>\n      <th>18530</th>\n      <td>240</td>\n      <td>4</td>\n      <td>2</td>\n      <td>30</td>\n      <td>30</td>\n      <td>2</td>\n      <td>1</td>\n      <td>2</td>\n    </tr>\n  </tbody>\n</table>\n<p>18531 rows × 8 columns</p>\n</div>"
     },
     "execution_count": 15,
     "metadata": {},
     "output_type": "execute_result"
    }
   ],
   "source": [
    "import numpy as np\n",
    "import pandas as pd\n",
    "import torch\n",
    "\n",
    "split_size = 50\n",
    "min_skip = 0\n",
    "max_skip = 50\n",
    "use_columns = [\"point_no\", \"set_no\", \"point_victor\", \"p1_score\", \"p2_score\", \"p1_games\", \"p2_games\", \"server\"]\n",
    "\n",
    "rate = 0.5\n",
    "\n",
    "data = pd.read_csv(\"../data/data.csv\")\n",
    "\n",
    "x = pd.DataFrame(columns=use_columns)\n",
    "y = pd.DataFrame(columns=[\"game_victor\"])\n",
    "\n",
    "for match_id in data[\"match_id\"].astype(\"category\"):\n",
    "    _set = data.loc[data[\"match_id\"] == match_id]\n",
    "\n",
    "    index = np.random.randint(min_skip, max_skip)\n",
    "    while index+split_size<_set.shape[0]:\n",
    "        x = x.append(_set.iloc[index][use_columns])\n",
    "        y.append(_set.iloc[index:index+split_size])\n",
    "        index += split_size + np.random.randint(min_skip, max_skip)\n",
    "\n",
    "x.reset_index(drop=True, inplace=True)\n",
    "x\n"
   ],
   "metadata": {
    "collapsed": false,
    "ExecuteTime": {
     "end_time": "2024-02-03T01:56:02.954931Z",
     "start_time": "2024-02-03T01:55:34.149139800Z"
    }
   },
   "id": "901e48b226b1fbfb",
   "execution_count": 15
  },
  {
   "cell_type": "code",
   "outputs": [
    {
     "data": {
      "text/plain": "       index  p1_games  p1_score  p2_games  p2_score  point_no  point_victor  \\\n0         20       1.0      30.0       1.0       0.0      21.0           2.0   \n1        119       3.0      30.0       4.0       0.0     120.0           1.0   \n2        213       0.0      15.0       2.0      30.0     227.0           2.0   \n3         20       1.0      30.0       1.0       0.0      21.0           2.0   \n4         92       1.0      40.0       3.0      30.0      93.0           2.0   \n...      ...       ...       ...       ...       ...       ...           ...   \n20708    210       1.0       0.0       1.0       0.0     224.0           1.0   \n20709    265       0.0      40.0       0.0      30.0     279.0           2.0   \n20710     43       1.0       0.0       5.0      30.0      44.0           2.0   \n20711    125       6.0       0.0       6.0       0.0     126.0           2.0   \n20712    221       1.0      55.0       1.0      40.0     235.0           1.0   \n\n       server  set_no  \n0         1.0     1.0  \n1         1.0     2.0  \n2         2.0     4.0  \n3         1.0     1.0  \n4         2.0     2.0  \n...       ...     ...  \n20708     1.0     4.0  \n20709     2.0     5.0  \n20710     2.0     1.0  \n20711     1.0     2.0  \n20712     1.0     4.0  \n\n[20713 rows x 9 columns]",
      "text/html": "<div>\n<style scoped>\n    .dataframe tbody tr th:only-of-type {\n        vertical-align: middle;\n    }\n\n    .dataframe tbody tr th {\n        vertical-align: top;\n    }\n\n    .dataframe thead th {\n        text-align: right;\n    }\n</style>\n<table border=\"1\" class=\"dataframe\">\n  <thead>\n    <tr style=\"text-align: right;\">\n      <th></th>\n      <th>index</th>\n      <th>p1_games</th>\n      <th>p1_score</th>\n      <th>p2_games</th>\n      <th>p2_score</th>\n      <th>point_no</th>\n      <th>point_victor</th>\n      <th>server</th>\n      <th>set_no</th>\n    </tr>\n  </thead>\n  <tbody>\n    <tr>\n      <th>0</th>\n      <td>20</td>\n      <td>1.0</td>\n      <td>30.0</td>\n      <td>1.0</td>\n      <td>0.0</td>\n      <td>21.0</td>\n      <td>2.0</td>\n      <td>1.0</td>\n      <td>1.0</td>\n    </tr>\n    <tr>\n      <th>1</th>\n      <td>119</td>\n      <td>3.0</td>\n      <td>30.0</td>\n      <td>4.0</td>\n      <td>0.0</td>\n      <td>120.0</td>\n      <td>1.0</td>\n      <td>1.0</td>\n      <td>2.0</td>\n    </tr>\n    <tr>\n      <th>2</th>\n      <td>213</td>\n      <td>0.0</td>\n      <td>15.0</td>\n      <td>2.0</td>\n      <td>30.0</td>\n      <td>227.0</td>\n      <td>2.0</td>\n      <td>2.0</td>\n      <td>4.0</td>\n    </tr>\n    <tr>\n      <th>3</th>\n      <td>20</td>\n      <td>1.0</td>\n      <td>30.0</td>\n      <td>1.0</td>\n      <td>0.0</td>\n      <td>21.0</td>\n      <td>2.0</td>\n      <td>1.0</td>\n      <td>1.0</td>\n    </tr>\n    <tr>\n      <th>4</th>\n      <td>92</td>\n      <td>1.0</td>\n      <td>40.0</td>\n      <td>3.0</td>\n      <td>30.0</td>\n      <td>93.0</td>\n      <td>2.0</td>\n      <td>2.0</td>\n      <td>2.0</td>\n    </tr>\n    <tr>\n      <th>...</th>\n      <td>...</td>\n      <td>...</td>\n      <td>...</td>\n      <td>...</td>\n      <td>...</td>\n      <td>...</td>\n      <td>...</td>\n      <td>...</td>\n      <td>...</td>\n    </tr>\n    <tr>\n      <th>20708</th>\n      <td>210</td>\n      <td>1.0</td>\n      <td>0.0</td>\n      <td>1.0</td>\n      <td>0.0</td>\n      <td>224.0</td>\n      <td>1.0</td>\n      <td>1.0</td>\n      <td>4.0</td>\n    </tr>\n    <tr>\n      <th>20709</th>\n      <td>265</td>\n      <td>0.0</td>\n      <td>40.0</td>\n      <td>0.0</td>\n      <td>30.0</td>\n      <td>279.0</td>\n      <td>2.0</td>\n      <td>2.0</td>\n      <td>5.0</td>\n    </tr>\n    <tr>\n      <th>20710</th>\n      <td>43</td>\n      <td>1.0</td>\n      <td>0.0</td>\n      <td>5.0</td>\n      <td>30.0</td>\n      <td>44.0</td>\n      <td>2.0</td>\n      <td>2.0</td>\n      <td>1.0</td>\n    </tr>\n    <tr>\n      <th>20711</th>\n      <td>125</td>\n      <td>6.0</td>\n      <td>0.0</td>\n      <td>6.0</td>\n      <td>0.0</td>\n      <td>126.0</td>\n      <td>2.0</td>\n      <td>1.0</td>\n      <td>2.0</td>\n    </tr>\n    <tr>\n      <th>20712</th>\n      <td>221</td>\n      <td>1.0</td>\n      <td>55.0</td>\n      <td>1.0</td>\n      <td>40.0</td>\n      <td>235.0</td>\n      <td>1.0</td>\n      <td>1.0</td>\n      <td>4.0</td>\n    </tr>\n  </tbody>\n</table>\n<p>20713 rows × 9 columns</p>\n</div>"
     },
     "execution_count": 13,
     "metadata": {},
     "output_type": "execute_result"
    }
   ],
   "source": [],
   "metadata": {
    "collapsed": false
   },
   "id": "66d2cc465ec7d16",
   "execution_count": 13
  },
  {
   "cell_type": "code",
   "outputs": [],
   "source": [],
   "metadata": {
    "collapsed": false
   },
   "id": "d7bf22e169f69390"
  }
 ],
 "metadata": {
  "kernelspec": {
   "display_name": "Python 3",
   "language": "python",
   "name": "python3"
  },
  "language_info": {
   "codemirror_mode": {
    "name": "ipython",
    "version": 2
   },
   "file_extension": ".py",
   "mimetype": "text/x-python",
   "name": "python",
   "nbconvert_exporter": "python",
   "pygments_lexer": "ipython2",
   "version": "2.7.6"
  }
 },
 "nbformat": 4,
 "nbformat_minor": 5
}
